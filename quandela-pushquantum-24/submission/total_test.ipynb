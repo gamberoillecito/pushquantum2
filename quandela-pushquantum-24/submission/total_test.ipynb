{
 "cells": [
  {
   "cell_type": "code",
   "execution_count": 53,
   "metadata": {},
   "outputs": [],
   "source": [
    "import perceval as pv \n",
    "from perceval.components import BS, PS\n",
    "from perceval.rendering.circuit import SymbSkin, PhysSkin\n",
    "import perceval.components.unitary_components as comp\n",
    "from perceval.utils import BasicState, DensityMatrix\n",
    "import numpy as np\n",
    "from circuits import addPrep, deAddPrep, fullCircuit\n",
    "from utils import get_state_vector, run_circuit, loss_function, getFidelityRho1, getFidelityRho2, getFidelityRho\n",
    "from collections import Counter\n",
    "import matplotlib.pyplot as plt\n",
    "from scipy.optimize import minimize"
   ]
  },
  {
   "cell_type": "code",
   "execution_count": 54,
   "metadata": {},
   "outputs": [
    {
     "data": {
      "image/svg+xml": [
       "<?xml version=\"1.0\" encoding=\"UTF-8\"?>\n",
       "<svg xmlns=\"http://www.w3.org/2000/svg\" xmlns:xlink=\"http://www.w3.org/1999/xlink\"\n",
       "     width=\"2382.5\" height=\"281.25\" viewBox=\"-28.0 0 1906.0 225.0\">\n",
       "<defs>\n",
       "</defs>\n",
       "<path d=\"M10,25.0 L25,25.0\" stroke-width=\"1\" stroke=\"black\" stroke-linejoin=\"miter\" fill=\"none\" />\n",
       "<path d=\"M10,75.0 L25,75.0\" stroke-width=\"1\" stroke=\"black\" stroke-linejoin=\"miter\" fill=\"none\" />\n",
       "<path d=\"M10,125.0 L25,125.0\" stroke-width=\"1\" stroke=\"black\" stroke-linejoin=\"miter\" fill=\"none\" />\n",
       "<path d=\"M10,175.0 L25,175.0\" stroke-width=\"1\" stroke=\"black\" stroke-linejoin=\"miter\" fill=\"none\" />\n",
       "<path d=\"M37.9442,75.0002 C51.653800000000004,75.0002,51.5923,100.0,65.3019,100.0 M65.3038,100.0 C51.59219999999999,100.0,51.6538,124.9998,37.94409999999999,124.9998 M65.3038,100.0 L87.1884,100.0 M87.1884,100.0 C100.9,100.0,100.83840000000001,75.0002,114.5481,75.0002 M87.1884,100.0 C100.9,100.0,100.83840000000001,124.9998,114.5481,124.9998 M25.0,75.0 L38.0,75.0 M38.0019,124.9998 L25.0,124.9998 M112.6453,124.9998 L125.0,124.9998 M112.1944,74.9998 L125.0,74.9998\" stroke-width=\"1\" stroke=\"black\" stroke-linejoin=\"miter\" fill=\"none\" />\n",
       "<text x=\"75\" y=\"88\" font-size=\"7\" text-anchor=\"middle\"></text>\n",
       "<path d=\"M97,103 L107,103 L107,113 L97,113 Z\" stroke=\"black\" fill=\"aquamarine\" stroke-linejoin=\"miter\" />\n",
       "<text x=\"102\" y=\"110\" font-size=\"6\" text-anchor=\"middle\">H</text>\n",
       "<path d=\"M125,75 L145,75 M155,75 L175,75\" stroke-width=\"1\" stroke=\"black\" stroke-linejoin=\"miter\" fill=\"none\" />\n",
       "<path d=\"M140,85 L160,85 L160,65 L140,65 L140,85\" stroke-width=\"1\" stroke=\"black\" stroke-linejoin=\"miter\" fill=\"lightgray\" />\n",
       "<text x=\"150\" y=\"94\" font-size=\"7\" text-anchor=\"middle\">Φ=0</text>\n",
       "<path d=\"M125,125.0 L175,125.0\" stroke=\"black\" stroke-width=\"1\" fill=\"none\" />\n",
       "<path d=\"M187.9442,75.0002 C201.6538,75.0002,201.5923,100.0,215.3019,100.0 M215.3038,100.0 C201.5922,100.0,201.6538,124.9998,187.9441,124.9998 M215.3038,100.0 L237.1884,100.0 M237.1884,100.0 C250.9,100.0,250.8384,75.0002,264.5481,75.0002 M237.18839999999997,100.0 C250.89999999999998,100.0,250.83839999999998,124.9998,264.5481,124.9998 M174.99999999999997,75.0 L187.99999999999997,75.0 M188.00189999999998,124.9998 L174.99999999999997,124.9998 M262.64529999999996,124.9998 L274.99999999999994,124.9998 M262.1944,74.9998 L275.0,74.9998\" stroke-width=\"1\" stroke=\"black\" stroke-linejoin=\"miter\" fill=\"none\" />\n",
       "<text x=\"225\" y=\"88\" font-size=\"7\" text-anchor=\"middle\"></text>\n",
       "<path d=\"M247,103 L257,103 L257,113 L247,113 Z\" stroke=\"black\" fill=\"aquamarine\" stroke-linejoin=\"miter\" />\n",
       "<text x=\"252\" y=\"110\" font-size=\"6\" text-anchor=\"middle\">H</text>\n",
       "<path d=\"M275,125 L295,125 M305,125 L325,125\" stroke-width=\"1\" stroke=\"black\" stroke-linejoin=\"miter\" fill=\"none\" />\n",
       "<path d=\"M290,135 L310,135 L310,115 L290,115 L290,135\" stroke-width=\"1\" stroke=\"black\" stroke-linejoin=\"miter\" fill=\"lightgray\" />\n",
       "<text x=\"300\" y=\"144\" font-size=\"7\" text-anchor=\"middle\">Φ=0</text>\n",
       "<path d=\"M25,25.0 L325,25.0\" stroke=\"black\" stroke-width=\"1\" fill=\"none\" />\n",
       "<path d=\"M275,75.0 L325,75.0\" stroke=\"black\" stroke-width=\"1\" fill=\"none\" />\n",
       "<path d=\"M25,175.0 L325,175.0\" stroke=\"black\" stroke-width=\"1\" fill=\"none\" />\n",
       "<path d=\"M335,10 L365,10 L365,190 L335,190 Z\" stroke=\"whitesmoke\" fill=\"whitesmoke\" stroke-linejoin=\"miter\" />\n",
       "<path d=\"M325,25 L375,25\" stroke-width=\"1\" stroke=\"black\" stroke-linejoin=\"miter\" fill=\"none\" />\n",
       "<path d=\"M325,75 L375,75\" stroke-width=\"1\" stroke=\"black\" stroke-linejoin=\"miter\" fill=\"none\" />\n",
       "<path d=\"M325,125 L375,125\" stroke-width=\"1\" stroke=\"black\" stroke-linejoin=\"miter\" fill=\"none\" />\n",
       "<path d=\"M325,175 L375,175\" stroke-width=\"1\" stroke=\"black\" stroke-linejoin=\"miter\" fill=\"none\" />\n",
       "<path d=\"M349,10 L351,10 L351,190 L349,190 Z\" stroke=\"dimgrey\" fill=\"dimgrey\" stroke-linejoin=\"miter\" />\n",
       "<path d=\"M387.9442,25.0002 C401.65380000000005,25.0002,401.5923,50.0,415.30190000000005,50.0 M415.3038,50.0 C401.59220000000005,50.0,401.65380000000005,74.9998,387.94410000000005,74.9998 M415.3038,49.99999999999999 L437.1884,49.99999999999999 M437.1884,49.99999999999999 C450.9,49.99999999999999,450.8384,25.000199999999992,464.5481,25.000199999999992 M437.1884,49.99999999999999 C450.9,49.99999999999999,450.8384,74.9998,464.5481,74.9998 M375.0,24.999999999999993 L388.0,24.999999999999993 M388.0019,74.9998 L375.0,74.9998 M462.6453,74.9998 L475.0,74.9998 M462.1944,24.999799999999993 L475.0,24.999799999999993\" stroke-width=\"1\" stroke=\"black\" stroke-linejoin=\"miter\" fill=\"none\" />\n",
       "<text x=\"425\" y=\"38\" font-size=\"7\" text-anchor=\"middle\"></text>\n",
       "<path d=\"M447,53 L457,53 L457,63 L447,63 Z\" stroke=\"black\" fill=\"aquamarine\" stroke-linejoin=\"miter\" />\n",
       "<text x=\"452\" y=\"60\" font-size=\"6\" text-anchor=\"middle\">H</text>\n",
       "<path d=\"M387.9442,125.0002 C401.65380000000005,125.0002,401.5923,150.0,415.30190000000005,150.0 M415.3038,150.0 C401.59220000000005,150.0,401.65380000000005,174.9998,387.94410000000005,174.9998 M415.3038,150.0 L437.1884,150.0 M437.1884,150.0 C450.9,150.0,450.8384,125.0002,464.5481,125.0002 M437.1884,150.0 C450.9,150.0,450.8384,174.9998,464.5481,174.9998 M375.0,125.0 L388.0,125.0 M388.0019,174.9998 L375.0,174.9998 M462.6453,174.9998 L475.0,174.9998 M462.1944,124.9998 L475.0,124.9998\" stroke-width=\"1\" stroke=\"black\" stroke-linejoin=\"miter\" fill=\"none\" />\n",
       "<text x=\"425\" y=\"138\" font-size=\"7\" text-anchor=\"middle\"></text>\n",
       "<path d=\"M447,153 L457,153 L457,163 L447,163 Z\" stroke=\"black\" fill=\"aquamarine\" stroke-linejoin=\"miter\" />\n",
       "<text x=\"452\" y=\"160\" font-size=\"6\" text-anchor=\"middle\">H</text>\n",
       "<path d=\"M475,25 L495,25 M505,25 L525,25\" stroke-width=\"1\" stroke=\"black\" stroke-linejoin=\"miter\" fill=\"none\" />\n",
       "<path d=\"M490,35 L510,35 L510,15 L490,15 L490,35\" stroke-width=\"1\" stroke=\"black\" stroke-linejoin=\"miter\" fill=\"lightgray\" />\n",
       "<text x=\"500\" y=\"44\" font-size=\"7\" text-anchor=\"middle\">Φ=0</text>\n",
       "<path d=\"M475,125 L495,125 M505,125 L525,125\" stroke-width=\"1\" stroke=\"black\" stroke-linejoin=\"miter\" fill=\"none\" />\n",
       "<path d=\"M490,135 L510,135 L510,115 L490,115 L490,135\" stroke-width=\"1\" stroke=\"black\" stroke-linejoin=\"miter\" fill=\"lightgray\" />\n",
       "<text x=\"500\" y=\"144\" font-size=\"7\" text-anchor=\"middle\">Φ=0</text>\n",
       "<path d=\"M475,75.0 L525,75.0\" stroke=\"black\" stroke-width=\"1\" fill=\"none\" />\n",
       "<path d=\"M537.9442,25.0002 C551.6538,25.0002,551.5923,50.0,565.3019,50.0 M565.3038,50.0 C551.5922,50.0,551.6538,74.9998,537.9441,74.9998 M565.3038,49.99999999999999 L587.1884,49.99999999999999 M587.1884,49.99999999999999 C600.9,49.99999999999999,600.8384,25.000199999999992,614.5481,25.000199999999992 M587.1884,49.99999999999999 C600.9,49.99999999999999,600.8384,74.9998,614.5481,74.9998 M525.0,24.999999999999993 L538.0,24.999999999999993 M538.0019,74.9998 L525.0,74.9998 M612.6453,74.9998 L625.0,74.9998 M612.1944,24.999799999999993 L625.0,24.999799999999993\" stroke-width=\"1\" stroke=\"black\" stroke-linejoin=\"miter\" fill=\"none\" />\n",
       "<text x=\"575\" y=\"38\" font-size=\"7\" text-anchor=\"middle\"></text>\n",
       "<path d=\"M597,53 L607,53 L607,63 L597,63 Z\" stroke=\"black\" fill=\"aquamarine\" stroke-linejoin=\"miter\" />\n",
       "<text x=\"602\" y=\"60\" font-size=\"6\" text-anchor=\"middle\">H</text>\n",
       "<path d=\"M475,175.0 L525,175.0\" stroke=\"black\" stroke-width=\"1\" fill=\"none\" />\n",
       "<path d=\"M537.9442,125.0002 C551.6538,125.0002,551.5923,150.0,565.3019,150.0 M565.3038,150.0 C551.5922,150.0,551.6538,174.9998,537.9441,174.9998 M565.3038,150.0 L587.1884,150.0 M587.1884,150.0 C600.9,150.0,600.8384,125.0002,614.5481,125.0002 M587.1884,150.0 C600.9,150.0,600.8384,174.9998,614.5481,174.9998 M525.0,125.0 L538.0,125.0 M538.0019,174.9998 L525.0,174.9998 M612.6453,174.9998 L625.0,174.9998 M612.1944,124.9998 L625.0,124.9998\" stroke-width=\"1\" stroke=\"black\" stroke-linejoin=\"miter\" fill=\"none\" />\n",
       "<text x=\"575\" y=\"138\" font-size=\"7\" text-anchor=\"middle\"></text>\n",
       "<path d=\"M597,153 L607,153 L607,163 L597,163 Z\" stroke=\"black\" fill=\"aquamarine\" stroke-linejoin=\"miter\" />\n",
       "<text x=\"602\" y=\"160\" font-size=\"6\" text-anchor=\"middle\">H</text>\n",
       "<path d=\"M625,75 L645,75 M655,75 L675,75\" stroke-width=\"1\" stroke=\"black\" stroke-linejoin=\"miter\" fill=\"none\" />\n",
       "<path d=\"M640,85 L660,85 L660,65 L640,65 L640,85\" stroke-width=\"1\" stroke=\"black\" stroke-linejoin=\"miter\" fill=\"lightgray\" />\n",
       "<text x=\"650\" y=\"94\" font-size=\"7\" text-anchor=\"middle\">Φ=0</text>\n",
       "<path d=\"M625,175 L645,175 M655,175 L675,175\" stroke-width=\"1\" stroke=\"black\" stroke-linejoin=\"miter\" fill=\"none\" />\n",
       "<path d=\"M640,185 L660,185 L660,165 L640,165 L640,185\" stroke-width=\"1\" stroke=\"black\" stroke-linejoin=\"miter\" fill=\"lightgray\" />\n",
       "<text x=\"650\" y=\"194\" font-size=\"7\" text-anchor=\"middle\">Φ=0</text>\n",
       "<path d=\"M625,125.0 L675,125.0\" stroke=\"black\" stroke-width=\"1\" fill=\"none\" />\n",
       "<path d=\"M687.9442,75.0002 C701.6538,75.0002,701.5923,100.0,715.3019,100.0 M715.3038,100.0 C701.5922,100.0,701.6538,124.9998,687.9441,124.9998 M715.3038,100.0 L737.1884,100.0 M737.1884,100.0 C750.9,100.0,750.8384,75.0002,764.5481,75.0002 M737.1884,100.0 C750.9,100.0,750.8384,124.9998,764.5481,124.9998 M675.0,75.0 L688.0,75.0 M688.0019,124.9998 L675.0,124.9998 M762.6453,124.9998 L775.0,124.9998 M762.1944,74.9998 L775.0,74.9998\" stroke-width=\"1\" stroke=\"black\" stroke-linejoin=\"miter\" fill=\"none\" />\n",
       "<text x=\"725\" y=\"88\" font-size=\"7\" text-anchor=\"middle\"></text>\n",
       "<path d=\"M747,103 L757,103 L757,113 L747,113 Z\" stroke=\"black\" fill=\"aquamarine\" stroke-linejoin=\"miter\" />\n",
       "<text x=\"752\" y=\"110\" font-size=\"6\" text-anchor=\"middle\">H</text>\n",
       "<path d=\"M775,75 L795,75 M805,75 L825,75\" stroke-width=\"1\" stroke=\"black\" stroke-linejoin=\"miter\" fill=\"none\" />\n",
       "<path d=\"M790,85 L810,85 L810,65 L790,65 L790,85\" stroke-width=\"1\" stroke=\"black\" stroke-linejoin=\"miter\" fill=\"lightgray\" />\n",
       "<text x=\"800\" y=\"94\" font-size=\"7\" text-anchor=\"middle\">Φ=0</text>\n",
       "<path d=\"M775,125.0 L825,125.0\" stroke=\"black\" stroke-width=\"1\" fill=\"none\" />\n",
       "<path d=\"M837.9442,75.0002 C851.6538,75.0002,851.5923,100.0,865.3019,100.0 M865.3038,100.0 C851.5922,100.0,851.6538,124.9998,837.9441,124.9998 M865.3038,100.0 L887.1884,100.0 M887.1884,100.0 C900.9,100.0,900.8384,75.0002,914.5481,75.0002 M887.1884,100.0 C900.9,100.0,900.8384,124.9998,914.5481,124.9998 M825.0,75.0 L838.0,75.0 M838.0019,124.9998 L825.0,124.9998 M912.6453,124.9998 L925.0,124.9998 M912.1944,74.9998 L925.0,74.9998\" stroke-width=\"1\" stroke=\"black\" stroke-linejoin=\"miter\" fill=\"none\" />\n",
       "<text x=\"875\" y=\"88\" font-size=\"7\" text-anchor=\"middle\"></text>\n",
       "<path d=\"M897,103 L907,103 L907,113 L897,113 Z\" stroke=\"black\" fill=\"aquamarine\" stroke-linejoin=\"miter\" />\n",
       "<text x=\"902\" y=\"110\" font-size=\"6\" text-anchor=\"middle\">H</text>\n",
       "<path d=\"M625,25 L645,25 M655,25 L675,25\" stroke-width=\"1\" stroke=\"black\" stroke-linejoin=\"miter\" fill=\"none\" />\n",
       "<path d=\"M640,35 L660,35 L660,15 L640,15 L640,35\" stroke-width=\"1\" stroke=\"black\" stroke-linejoin=\"miter\" fill=\"lightgray\" />\n",
       "<text x=\"650\" y=\"44\" font-size=\"7\" text-anchor=\"middle\">Φ=0</text>\n",
       "<path d=\"M925,125 L945,125 M955,125 L975,125\" stroke-width=\"1\" stroke=\"black\" stroke-linejoin=\"miter\" fill=\"none\" />\n",
       "<path d=\"M940,135 L960,135 L960,115 L940,115 L940,135\" stroke-width=\"1\" stroke=\"black\" stroke-linejoin=\"miter\" fill=\"lightgray\" />\n",
       "<text x=\"950\" y=\"144\" font-size=\"7\" text-anchor=\"middle\">Φ=0</text>\n",
       "<path d=\"M675,25.0 L925,25.0\" stroke=\"black\" stroke-width=\"1\" fill=\"none\" />\n",
       "<path d=\"M937.9442,25.0002 C951.6538,25.0002,951.5923,50.0,965.3019,50.0 M965.3038,50.0 C951.5922,50.0,951.6538,74.9998,937.9441,74.9998 M965.3038,49.99999999999999 L987.1884,49.99999999999999 M987.1884,49.99999999999999 C1000.9,49.99999999999999,1000.8384,25.000199999999992,1014.5481,25.000199999999992 M987.1884,49.99999999999999 C1000.9,49.99999999999999,1000.8384,74.9998,1014.5481,74.9998 M925.0,24.999999999999993 L938.0,24.999999999999993 M938.0019,74.9998 L925.0,74.9998 M1012.6453,74.9998 L1025.0,74.9998 M1012.1944,24.999799999999993 L1025.0,24.999799999999993\" stroke-width=\"1\" stroke=\"black\" stroke-linejoin=\"miter\" fill=\"none\" />\n",
       "<text x=\"975\" y=\"38\" font-size=\"7\" text-anchor=\"middle\"></text>\n",
       "<path d=\"M997,53 L1007,53 L1007,63 L997,63 Z\" stroke=\"black\" fill=\"aquamarine\" stroke-linejoin=\"miter\" />\n",
       "<text x=\"1002\" y=\"60\" font-size=\"6\" text-anchor=\"middle\">H</text>\n",
       "<path d=\"M675,175.0 L975,175.0\" stroke=\"black\" stroke-width=\"1\" fill=\"none\" />\n",
       "<path d=\"M987.9442,125.0002 C1001.6538,125.0002,1001.5923,150.0,1015.3019,150.0 M1015.3038,150.0 C1001.5922,150.0,1001.6538,174.9998,987.9441,174.9998 M1015.3038,150.0 L1037.1884,150.0 M1037.1884,150.0 C1050.9,150.0,1050.8384,125.0002,1064.5481,125.0002 M1037.1884,150.0 C1050.9,150.0,1050.8384,174.9998,1064.5481,174.9998 M975.0,125.0 L988.0,125.0 M988.0019,174.9998 L975.0,174.9998 M1062.6453,174.9998 L1075.0,174.9998 M1062.1944,124.9998 L1075.0,124.9998\" stroke-width=\"1\" stroke=\"black\" stroke-linejoin=\"miter\" fill=\"none\" />\n",
       "<text x=\"1025\" y=\"138\" font-size=\"7\" text-anchor=\"middle\"></text>\n",
       "<path d=\"M1047,153 L1057,153 L1057,163 L1047,163 Z\" stroke=\"black\" fill=\"aquamarine\" stroke-linejoin=\"miter\" />\n",
       "<text x=\"1052\" y=\"160\" font-size=\"6\" text-anchor=\"middle\">H</text>\n",
       "<path d=\"M1025,25 L1045,25 M1055,25 L1075,25\" stroke-width=\"1\" stroke=\"black\" stroke-linejoin=\"miter\" fill=\"none\" />\n",
       "<path d=\"M1040,35 L1060,35 L1060,15 L1040,15 L1040,35\" stroke-width=\"1\" stroke=\"black\" stroke-linejoin=\"miter\" fill=\"lightgray\" />\n",
       "<text x=\"1050\" y=\"44\" font-size=\"7\" text-anchor=\"middle\">Φ=0</text>\n",
       "<path d=\"M1075,125 L1095,125 M1105,125 L1125,125\" stroke-width=\"1\" stroke=\"black\" stroke-linejoin=\"miter\" fill=\"none\" />\n",
       "<path d=\"M1090,135 L1110,135 L1110,115 L1090,115 L1090,135\" stroke-width=\"1\" stroke=\"black\" stroke-linejoin=\"miter\" fill=\"lightgray\" />\n",
       "<text x=\"1100\" y=\"144\" font-size=\"7\" text-anchor=\"middle\">Φ=0</text>\n",
       "<path d=\"M1025,75.0 L1075,75.0\" stroke=\"black\" stroke-width=\"1\" fill=\"none\" />\n",
       "<path d=\"M1087.9442,25.0002 C1101.6537999999998,25.0002,1101.5922999999998,50.0,1115.3019,50.0 M1115.3038,50.0 C1101.5921999999998,50.0,1101.6537999999998,74.9998,1087.9441,74.9998 M1115.3038,49.99999999999999 L1137.1884,49.99999999999999 M1137.1884,49.99999999999999 C1150.9,49.99999999999999,1150.8384,25.000199999999992,1164.5481,25.000199999999992 M1137.1884,49.99999999999999 C1150.9,49.99999999999999,1150.8384,74.9998,1164.5481,74.9998 M1075.0,24.999999999999993 L1088.0,24.999999999999993 M1088.0019,74.9998 L1075.0,74.9998 M1162.6453,74.9998 L1175.0,74.9998 M1162.1944,24.999799999999993 L1175.0,24.999799999999993\" stroke-width=\"1\" stroke=\"black\" stroke-linejoin=\"miter\" fill=\"none\" />\n",
       "<text x=\"1125\" y=\"38\" font-size=\"7\" text-anchor=\"middle\"></text>\n",
       "<path d=\"M1147,53 L1157,53 L1157,63 L1147,63 Z\" stroke=\"black\" fill=\"aquamarine\" stroke-linejoin=\"miter\" />\n",
       "<text x=\"1152\" y=\"60\" font-size=\"6\" text-anchor=\"middle\">H</text>\n",
       "<path d=\"M1075,175.0 L1125,175.0\" stroke=\"black\" stroke-width=\"1\" fill=\"none\" />\n",
       "<path d=\"M1137.9442,125.0002 C1151.6537999999998,125.0002,1151.5922999999998,150.0,1165.3019,150.0 M1165.3038,150.0 C1151.5921999999998,150.0,1151.6537999999998,174.9998,1137.9441,174.9998 M1165.3038,150.0 L1187.1884,150.0 M1187.1884,150.0 C1200.9,150.0,1200.8384,125.0002,1214.5481,125.0002 M1187.1884,150.0 C1200.9,150.0,1200.8384,174.9998,1214.5481,174.9998 M1125.0,125.0 L1138.0,125.0 M1138.0019,174.9998 L1125.0,174.9998 M1212.6453,174.9998 L1225.0,174.9998 M1212.1944,124.9998 L1225.0,124.9998\" stroke-width=\"1\" stroke=\"black\" stroke-linejoin=\"miter\" fill=\"none\" />\n",
       "<text x=\"1175\" y=\"138\" font-size=\"7\" text-anchor=\"middle\"></text>\n",
       "<path d=\"M1197,153 L1207,153 L1207,163 L1197,163 Z\" stroke=\"black\" fill=\"aquamarine\" stroke-linejoin=\"miter\" />\n",
       "<text x=\"1202\" y=\"160\" font-size=\"6\" text-anchor=\"middle\">H</text>\n",
       "<path d=\"M1175,75 L1195,75 M1205,75 L1225,75\" stroke-width=\"1\" stroke=\"black\" stroke-linejoin=\"miter\" fill=\"none\" />\n",
       "<path d=\"M1190,85 L1210,85 L1210,65 L1190,65 L1190,85\" stroke-width=\"1\" stroke=\"black\" stroke-linejoin=\"miter\" fill=\"lightgray\" />\n",
       "<text x=\"1200\" y=\"94\" font-size=\"7\" text-anchor=\"middle\">Φ=0</text>\n",
       "<path d=\"M1225,175 L1245,175 M1255,175 L1275,175\" stroke-width=\"1\" stroke=\"black\" stroke-linejoin=\"miter\" fill=\"none\" />\n",
       "<path d=\"M1240,185 L1260,185 L1260,165 L1240,165 L1240,185\" stroke-width=\"1\" stroke=\"black\" stroke-linejoin=\"miter\" fill=\"lightgray\" />\n",
       "<text x=\"1250\" y=\"194\" font-size=\"7\" text-anchor=\"middle\">Φ=0</text>\n",
       "<path d=\"M1237.9442,75.0002 C1251.6537999999998,75.0002,1251.5922999999998,100.0,1265.3019,100.0 M1265.3038,100.0 C1251.5921999999998,100.0,1251.6537999999998,124.9998,1237.9441,124.9998 M1265.3038,100.0 L1287.1884,100.0 M1287.1884,100.0 C1300.9,100.0,1300.8384,75.0002,1314.5481,75.0002 M1287.1884,100.0 C1300.9,100.0,1300.8384,124.9998,1314.5481,124.9998 M1225.0,75.0 L1238.0,75.0 M1238.0019,124.9998 L1225.0,124.9998 M1312.6453,124.9998 L1325.0,124.9998 M1312.1944,74.9998 L1325.0,74.9998\" stroke-width=\"1\" stroke=\"black\" stroke-linejoin=\"miter\" fill=\"none\" />\n",
       "<text x=\"1275\" y=\"88\" font-size=\"7\" text-anchor=\"middle\"></text>\n",
       "<path d=\"M1297,103 L1307,103 L1307,113 L1297,113 Z\" stroke=\"black\" fill=\"aquamarine\" stroke-linejoin=\"miter\" />\n",
       "<text x=\"1302\" y=\"110\" font-size=\"6\" text-anchor=\"middle\">H</text>\n",
       "<path d=\"M1325,75 L1345,75 M1355,75 L1375,75\" stroke-width=\"1\" stroke=\"black\" stroke-linejoin=\"miter\" fill=\"none\" />\n",
       "<path d=\"M1340,85 L1360,85 L1360,65 L1340,65 L1340,85\" stroke-width=\"1\" stroke=\"black\" stroke-linejoin=\"miter\" fill=\"lightgray\" />\n",
       "<text x=\"1350\" y=\"94\" font-size=\"7\" text-anchor=\"middle\">Φ=0</text>\n",
       "<path d=\"M1325,125.0 L1375,125.0\" stroke=\"black\" stroke-width=\"1\" fill=\"none\" />\n",
       "<path d=\"M1387.9442,75.0002 C1401.6537999999998,75.0002,1401.5922999999998,100.0,1415.3019,100.0 M1415.3038,100.0 C1401.5921999999998,100.0,1401.6537999999998,124.9998,1387.9441,124.9998 M1415.3038,100.0 L1437.1884,100.0 M1437.1884,100.0 C1450.9,100.0,1450.8384,75.0002,1464.5481,75.0002 M1437.1884,100.0 C1450.9,100.0,1450.8384,124.9998,1464.5481,124.9998 M1375.0,75.0 L1388.0,75.0 M1388.0019,124.9998 L1375.0,124.9998 M1462.6453,124.9998 L1475.0,124.9998 M1462.1944,74.9998 L1475.0,74.9998\" stroke-width=\"1\" stroke=\"black\" stroke-linejoin=\"miter\" fill=\"none\" />\n",
       "<text x=\"1425\" y=\"88\" font-size=\"7\" text-anchor=\"middle\"></text>\n",
       "<path d=\"M1447,103 L1457,103 L1457,113 L1447,113 Z\" stroke=\"black\" fill=\"aquamarine\" stroke-linejoin=\"miter\" />\n",
       "<text x=\"1452\" y=\"110\" font-size=\"6\" text-anchor=\"middle\">H</text>\n",
       "<path d=\"M1175,25.0 L1475,25.0\" stroke=\"black\" stroke-width=\"1\" fill=\"none\" />\n",
       "<path d=\"M1275,175.0 L1475,175.0\" stroke=\"black\" stroke-width=\"1\" fill=\"none\" />\n",
       "<path d=\"M1485,10 L1515,10 L1515,190 L1485,190 Z\" stroke=\"whitesmoke\" fill=\"whitesmoke\" stroke-linejoin=\"miter\" />\n",
       "<path d=\"M1475,25 L1525,25\" stroke-width=\"1\" stroke=\"black\" stroke-linejoin=\"miter\" fill=\"none\" />\n",
       "<path d=\"M1475,75 L1525,75\" stroke-width=\"1\" stroke=\"black\" stroke-linejoin=\"miter\" fill=\"none\" />\n",
       "<path d=\"M1475,125 L1525,125\" stroke-width=\"1\" stroke=\"black\" stroke-linejoin=\"miter\" fill=\"none\" />\n",
       "<path d=\"M1475,175 L1525,175\" stroke-width=\"1\" stroke=\"black\" stroke-linejoin=\"miter\" fill=\"none\" />\n",
       "<path d=\"M1499,10 L1501,10 L1501,190 L1499,190 Z\" stroke=\"dimgrey\" fill=\"dimgrey\" stroke-linejoin=\"miter\" />\n",
       "<path d=\"M1525,25 L1545,25 M1555,25 L1575,25\" stroke-width=\"1\" stroke=\"black\" stroke-linejoin=\"miter\" fill=\"none\" />\n",
       "<path d=\"M1540,35 L1560,35 L1560,15 L1540,15 L1540,35\" stroke-width=\"1\" stroke=\"black\" stroke-linejoin=\"miter\" fill=\"lightgray\" />\n",
       "<text x=\"1550\" y=\"44\" font-size=\"7\" text-anchor=\"middle\">Φ=0</text>\n",
       "<path d=\"M1525,75.0 L1575,75.0\" stroke=\"black\" stroke-width=\"1\" fill=\"none\" />\n",
       "<path d=\"M1587.9442,25.0002 C1601.6537999999998,25.0002,1601.5922999999998,50.0,1615.3019,50.0 M1615.3038,50.0 C1601.5921999999998,50.0,1601.6537999999998,74.9998,1587.9441,74.9998 M1615.3038,49.99999999999999 L1637.1884,49.99999999999999 M1637.1884,49.99999999999999 C1650.9,49.99999999999999,1650.8384,25.000199999999992,1664.5481,25.000199999999992 M1637.1884,49.99999999999999 C1650.9,49.99999999999999,1650.8384,74.9998,1664.5481,74.9998 M1575.0,24.999999999999993 L1588.0,24.999999999999993 M1588.0019,74.9998 L1575.0,74.9998 M1662.6453,74.9998 L1675.0,74.9998 M1662.1944,24.999799999999993 L1675.0,24.999799999999993\" stroke-width=\"1\" stroke=\"black\" stroke-linejoin=\"miter\" fill=\"none\" />\n",
       "<text x=\"1625\" y=\"38\" font-size=\"7\" text-anchor=\"middle\"></text>\n",
       "<path d=\"M1647,53 L1657,53 L1657,63 L1647,63 Z\" stroke=\"black\" fill=\"aquamarine\" stroke-linejoin=\"miter\" />\n",
       "<text x=\"1652\" y=\"60\" font-size=\"6\" text-anchor=\"middle\">H</text>\n",
       "<path d=\"M1675,25 L1695,25 M1705,25 L1725,25\" stroke-width=\"1\" stroke=\"black\" stroke-linejoin=\"miter\" fill=\"none\" />\n",
       "<path d=\"M1690,35 L1710,35 L1710,15 L1690,15 L1690,35\" stroke-width=\"1\" stroke=\"black\" stroke-linejoin=\"miter\" fill=\"lightgray\" />\n",
       "<text x=\"1700\" y=\"44\" font-size=\"7\" text-anchor=\"middle\">Φ=0</text>\n",
       "<path d=\"M1675,75.0 L1725,75.0\" stroke=\"black\" stroke-width=\"1\" fill=\"none\" />\n",
       "<path d=\"M1737.9442,25.0002 C1751.6537999999998,25.0002,1751.5922999999998,50.0,1765.3019,50.0 M1765.3038,50.0 C1751.5921999999998,50.0,1751.6537999999998,74.9998,1737.9441,74.9998 M1765.3038,49.99999999999999 L1787.1884,49.99999999999999 M1787.1884,49.99999999999999 C1800.9,49.99999999999999,1800.8384,25.000199999999992,1814.5481,25.000199999999992 M1787.1884,49.99999999999999 C1800.9,49.99999999999999,1800.8384,74.9998,1814.5481,74.9998 M1725.0,24.999999999999993 L1738.0,24.999999999999993 M1738.0019,74.9998 L1725.0,74.9998 M1812.6453,74.9998 L1825.0,74.9998 M1812.1944,24.999799999999993 L1825.0,24.999799999999993\" stroke-width=\"1\" stroke=\"black\" stroke-linejoin=\"miter\" fill=\"none\" />\n",
       "<text x=\"1775\" y=\"38\" font-size=\"7\" text-anchor=\"middle\"></text>\n",
       "<path d=\"M1797,53 L1807,53 L1807,63 L1797,63 Z\" stroke=\"black\" fill=\"aquamarine\" stroke-linejoin=\"miter\" />\n",
       "<text x=\"1802\" y=\"60\" font-size=\"6\" text-anchor=\"middle\">H</text>\n",
       "<path d=\"M1525,125 L1545,125 M1555,125 L1575,125\" stroke-width=\"1\" stroke=\"black\" stroke-linejoin=\"miter\" fill=\"none\" />\n",
       "<path d=\"M1540,135 L1560,135 L1560,115 L1540,115 L1540,135\" stroke-width=\"1\" stroke=\"black\" stroke-linejoin=\"miter\" fill=\"lightgray\" />\n",
       "<text x=\"1550\" y=\"144\" font-size=\"7\" text-anchor=\"middle\">Φ=0</text>\n",
       "<path d=\"M1525,175.0 L1575,175.0\" stroke=\"black\" stroke-width=\"1\" fill=\"none\" />\n",
       "<path d=\"M1587.9442,125.0002 C1601.6537999999998,125.0002,1601.5922999999998,150.0,1615.3019,150.0 M1615.3038,150.0 C1601.5921999999998,150.0,1601.6537999999998,174.9998,1587.9441,174.9998 M1615.3038,150.0 L1637.1884,150.0 M1637.1884,150.0 C1650.9,150.0,1650.8384,125.0002,1664.5481,125.0002 M1637.1884,150.0 C1650.9,150.0,1650.8384,174.9998,1664.5481,174.9998 M1575.0,125.0 L1588.0,125.0 M1588.0019,174.9998 L1575.0,174.9998 M1662.6453,174.9998 L1675.0,174.9998 M1662.1944,124.9998 L1675.0,124.9998\" stroke-width=\"1\" stroke=\"black\" stroke-linejoin=\"miter\" fill=\"none\" />\n",
       "<text x=\"1625\" y=\"138\" font-size=\"7\" text-anchor=\"middle\"></text>\n",
       "<path d=\"M1647,153 L1657,153 L1657,163 L1647,163 Z\" stroke=\"black\" fill=\"aquamarine\" stroke-linejoin=\"miter\" />\n",
       "<text x=\"1652\" y=\"160\" font-size=\"6\" text-anchor=\"middle\">H</text>\n",
       "<path d=\"M1675,125 L1695,125 M1705,125 L1725,125\" stroke-width=\"1\" stroke=\"black\" stroke-linejoin=\"miter\" fill=\"none\" />\n",
       "<path d=\"M1690,135 L1710,135 L1710,115 L1690,115 L1690,135\" stroke-width=\"1\" stroke=\"black\" stroke-linejoin=\"miter\" fill=\"lightgray\" />\n",
       "<text x=\"1700\" y=\"144\" font-size=\"7\" text-anchor=\"middle\">Φ=0</text>\n",
       "<path d=\"M1675,175.0 L1725,175.0\" stroke=\"black\" stroke-width=\"1\" fill=\"none\" />\n",
       "<path d=\"M1737.9442,125.0002 C1751.6537999999998,125.0002,1751.5922999999998,150.0,1765.3019,150.0 M1765.3038,150.0 C1751.5921999999998,150.0,1751.6537999999998,174.9998,1737.9441,174.9998 M1765.3038,150.0 L1787.1884,150.0 M1787.1884,150.0 C1800.9,150.0,1800.8384,125.0002,1814.5481,125.0002 M1787.1884,150.0 C1800.9,150.0,1800.8384,174.9998,1814.5481,174.9998 M1725.0,125.0 L1738.0,125.0 M1738.0019,174.9998 L1725.0,174.9998 M1812.6453,174.9998 L1825.0,174.9998 M1812.1944,124.9998 L1825.0,124.9998\" stroke-width=\"1\" stroke=\"black\" stroke-linejoin=\"miter\" fill=\"none\" />\n",
       "<text x=\"1775\" y=\"138\" font-size=\"7\" text-anchor=\"middle\"></text>\n",
       "<path d=\"M1797,153 L1807,153 L1807,163 L1797,163 Z\" stroke=\"black\" fill=\"aquamarine\" stroke-linejoin=\"miter\" />\n",
       "<text x=\"1802\" y=\"160\" font-size=\"6\" text-anchor=\"middle\">H</text>\n",
       "<path d=\"M1825,25.0 L1840,25.0\" stroke-width=\"1\" stroke=\"black\" stroke-linejoin=\"miter\" fill=\"none\" />\n",
       "<path d=\"M1825,75.0 L1840,75.0\" stroke-width=\"1\" stroke=\"black\" stroke-linejoin=\"miter\" fill=\"none\" />\n",
       "<path d=\"M1825,125.0 L1840,125.0\" stroke-width=\"1\" stroke=\"black\" stroke-linejoin=\"miter\" fill=\"none\" />\n",
       "<path d=\"M1825,175.0 L1840,175.0\" stroke-width=\"1\" stroke=\"black\" stroke-linejoin=\"miter\" fill=\"none\" />\n",
       "<text x=\"1850\" y=\"28.0\" font-size=\"6\" text-anchor=\"end\">0</text>\n",
       "<text x=\"1850\" y=\"78.0\" font-size=\"6\" text-anchor=\"end\">1</text>\n",
       "<text x=\"1850\" y=\"128.0\" font-size=\"6\" text-anchor=\"end\">2</text>\n",
       "<text x=\"1850\" y=\"178.0\" font-size=\"6\" text-anchor=\"end\">3</text>\n",
       "<text x=\"0\" y=\"28.0\" font-size=\"6\" text-anchor=\"start\">0</text>\n",
       "<text x=\"0\" y=\"78.0\" font-size=\"6\" text-anchor=\"start\">1</text>\n",
       "<text x=\"0\" y=\"128.0\" font-size=\"6\" text-anchor=\"start\">2</text>\n",
       "<text x=\"0\" y=\"178.0\" font-size=\"6\" text-anchor=\"start\">3</text>\n",
       "</svg>"
      ],
      "text/plain": [
       "<drawsvg.drawing.Drawing at 0x7f7fed971f60>"
      ]
     },
     "execution_count": 54,
     "metadata": {},
     "output_type": "execute_result"
    }
   ],
   "source": [
    "theta = 0\n",
    "phi = 0\n",
    "full_qc = fullCircuit([0]*12, theta, phi)\n",
    "pv.pdisplay(full_qc, skin=SymbSkin())"
   ]
  },
  {
   "cell_type": "code",
   "execution_count": 55,
   "metadata": {},
   "outputs": [],
   "source": [
    "sol = minimize(loss_function, method= 'Nelder-Mead', x0=np.random.rand(1,12)[0]*2*np.pi, options={\"maxiter\":650})"
   ]
  },
  {
   "cell_type": "code",
   "execution_count": 56,
   "metadata": {},
   "outputs": [
    {
     "data": {
      "text/plain": [
       "[<matplotlib.lines.Line2D at 0x7f7fed6d8610>]"
      ]
     },
     "execution_count": 56,
     "metadata": {},
     "output_type": "execute_result"
    },
    {
     "data": {
      "image/png": "[encoded data removed]",
      "text/plain": [
       "<Figure size 640x480 with 1 Axes>"
      ]
     },
     "metadata": {},
     "output_type": "display_data"
    }
   ],
   "source": [
    "phi_list = np.arange(0, 2*np.pi, 0.2)\n",
    "fid_phi = []\n",
    "\n",
    "for phi in phi_list:\n",
    "    optimized_qc = fullCircuit(sol.x, theta, phi)\n",
    "    counts = run_circuit(pv.StateVector([1,0,1,0]), optimized_qc)\n",
    "\n",
    "    fid_phi.append(getFidelityRho1(counts))\n",
    "    # pv.pdisplay(optimized_qc, skin=SymbSkin())\n",
    "\n",
    "plt.plot(phi_list, fid_phi)\n"
   ]
  },
  {
   "cell_type": "code",
   "execution_count": 57,
   "metadata": {},
   "outputs": [
    {
     "name": "stdout",
     "output_type": "stream",
     "text": [
      "       message: Maximum number of iterations has been exceeded.\n",
      "       success: False\n",
      "        status: 2\n",
      "           fun: 4.53538134\n",
      "             x: [ 3.835e+00  5.637e-01  6.261e+00  4.999e+00  6.173e+00\n",
      "                  7.698e-01  8.005e-01  3.998e-01  9.556e-01  3.668e+00\n",
      "                  2.979e+00  3.141e+00]\n",
      "           nit: 650\n",
      "          nfev: 1985\n",
      " final_simplex: (array([[ 3.835e+00,  5.637e-01, ...,  2.979e+00,\n",
      "                         3.141e+00],\n",
      "                       [ 3.835e+00,  5.637e-01, ...,  2.979e+00,\n",
      "                         3.141e+00],\n",
      "                       ...,\n",
      "                       [ 3.835e+00,  5.637e-01, ...,  2.979e+00,\n",
      "                         3.141e+00],\n",
      "                       [ 3.835e+00,  5.637e-01, ...,  2.979e+00,\n",
      "                         3.141e+00]]), array([ 4.535e+00,  4.550e+00, ...,  4.580e+00,  4.583e+00]))\n"
     ]
    },
    {
     "data": {
      "text/plain": [
       "0.0395"
      ]
     },
     "execution_count": 57,
     "metadata": {},
     "output_type": "execute_result"
    }
   ],
   "source": [
    "print(sol)\n",
    "counts = run_circuit(pv.StateVector([1,0,1,0]), optimized_qc)\n",
    "\n",
    "getFidelityRho1(counts)"
   ]
  },
  {
   "cell_type": "code",
   "execution_count": 58,
   "metadata": {},
   "outputs": [
    {
     "data": {
      "text/plain": [
       "(0.041-0.185I)*|1,0,0,1>+(-0.003-0.058I)*|1,0,1,0>+(-0.669+0.436I)*|0,1,1,0>+(0.024-0.043I)*|0,1,0,1>+(0.014-0.013I)*|0,0,0,2>+(0.025-0.071I)*|0,2,0,0>+(-0.344-0.044I)*|0,0,1,1>+(-0.058-0.04I)*|0,0,2,0>+(-0.202-0.383I)*|1,1,0,0>+(0.03-0.013I)*|2,0,0,0>"
      ]
     },
     "execution_count": 58,
     "metadata": {},
     "output_type": "execute_result"
    }
   ],
   "source": [
    "get_state_vector(pv.StateVector([1,0,1,0]), optimized_qc)"
   ]
  }
 ],
 "metadata": {
  "kernelspec": {
   "display_name": ".venv",
   "language": "python",
   "name": "python3"
  },
  "language_info": {
   "codemirror_mode": {
    "name": "ipython",
    "version": 3
   },
   "file_extension": ".py",
   "mimetype": "text/x-python",
   "name": "python",
   "nbconvert_exporter": "python",
   "pygments_lexer": "ipython3",
   "version": "3.10.12"
  }
 },
 "nbformat": 4,
 "nbformat_minor": 2
}
