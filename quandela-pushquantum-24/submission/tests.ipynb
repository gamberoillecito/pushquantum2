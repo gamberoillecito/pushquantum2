{
 "cells": [
  {
   "cell_type": "code",
   "execution_count": 22,
   "metadata": {},
   "outputs": [],
   "source": [
    "import perceval as pv \n",
    "from perceval.components import BS, PS\n",
    "from perceval.rendering.circuit import SymbSkin, PhysSkin\n",
    "import perceval.components.unitary_components as comp\n",
    "from perceval.utils import BasicState, DensityMatrix\n",
    "import numpy as np\n",
    "from circuits import addPrep\n",
    "from collections import Counter"
   ]
  },
  {
   "cell_type": "code",
   "execution_count": 23,
   "metadata": {},
   "outputs": [],
   "source": [
    "def getFidelityRho1(counts):\n",
    "    totCounts, validCounts = 0, 0\n",
    "\n",
    "    for state in counts:\n",
    "        totCounts += counts[state]\n",
    "        if state[0] == 1 and state[1] == 0:\n",
    "            validCounts += counts[state]\n",
    "\n",
    "    return validCounts/totCounts\n",
    "\n",
    "\n",
    "def getFidelityRho2(counts):\n",
    "    totCounts, validCounts = 0, 0\n",
    "\n",
    "    for state in counts:\n",
    "        totCounts += counts[state]\n",
    "        if state[2] == 1 and state[3] == 0:\n",
    "            validCounts += counts[state]\n",
    "\n",
    "    return validCounts/totCounts\n",
    "\n",
    "\n",
    "def getFidelityRho(counts):\n",
    "    totCounts, validCounts = 0, 0\n",
    "\n",
    "    for state in counts:\n",
    "        totCounts += counts[state]\n",
    "        if state[0] == state[2] and state[1] == state[3]:\n",
    "            validCounts += counts[state]\n",
    "\n",
    "    return validCounts/totCounts\n",
    "\n",
    "def costFunctionAtPhi(counts):\n",
    "    return (1 - getFidelityRho1(counts))**2 + (1 - getFidelityRho2(counts))**2 + (getFidelityRho1(counts)-getFidelityRho2(counts))**2\n",
    "\n",
    "def run_circuit(input, circuit,sample_count=10000):\n",
    "        sv = input\n",
    "\n",
    "        p = pv.Processor(\"SLOS\", circuit)\n",
    "        p.with_input(pv.BasicState([0, 1, 0, 1]))\n",
    "\n",
    "        sampler = pv.algorithm.Sampler(p)  \n",
    "        counts = sampler.sample_count(sample_count)['results']\n",
    "        return counts"
   ]
  },
  {
   "cell_type": "code",
   "execution_count": null,
   "metadata": {},
   "outputs": [
    {
     "data": {
      "image/svg+xml": [
       "<?xml version=\"1.0\" encoding=\"UTF-8\"?>\n",
       "<svg xmlns=\"http://www.w3.org/2000/svg\" xmlns:xlink=\"http://www.w3.org/1999/xlink\"\n",
       "     width=\"507.5\" height=\"281.25\" viewBox=\"-28.0 0 406.0 225.0\">\n",
       "<defs>\n",
       "</defs>\n",
       "<path d=\"M10,25.0 L25,25.0\" stroke-width=\"1\" stroke=\"black\" stroke-linejoin=\"miter\" fill=\"none\" />\n",
       "<path d=\"M10,75.0 L25,75.0\" stroke-width=\"1\" stroke=\"black\" stroke-linejoin=\"miter\" fill=\"none\" />\n",
       "<path d=\"M10,125.0 L25,125.0\" stroke-width=\"1\" stroke=\"black\" stroke-linejoin=\"miter\" fill=\"none\" />\n",
       "<path d=\"M10,175.0 L25,175.0\" stroke-width=\"1\" stroke=\"black\" stroke-linejoin=\"miter\" fill=\"none\" />\n",
       "<path d=\"M37.9442,75.0002 C51.653800000000004,75.0002,51.5923,100.0,65.3019,100.0 M65.3038,100.0 C51.59219999999999,100.0,51.6538,124.9998,37.94409999999999,124.9998 M65.3038,100.0 L87.1884,100.0 M87.1884,100.0 C100.9,100.0,100.83840000000001,75.0002,114.5481,75.0002 M87.1884,100.0 C100.9,100.0,100.83840000000001,124.9998,114.5481,124.9998 M25.0,75.0 L38.0,75.0 M38.0019,124.9998 L25.0,124.9998 M112.6453,124.9998 L125.0,124.9998 M112.1944,74.9998 L125.0,74.9998\" stroke-width=\"1\" stroke=\"black\" stroke-linejoin=\"miter\" fill=\"none\" />\n",
       "<text x=\"75\" y=\"88\" font-size=\"7\" text-anchor=\"middle\"></text>\n",
       "<path d=\"M97,103 L107,103 L107,113 L97,113 Z\" stroke=\"black\" fill=\"aquamarine\" stroke-linejoin=\"miter\" />\n",
       "<text x=\"102\" y=\"110\" font-size=\"6\" text-anchor=\"middle\">H</text>\n",
       "<path d=\"M125,75 L145,75 M155,75 L175,75\" stroke-width=\"1\" stroke=\"black\" stroke-linejoin=\"miter\" fill=\"none\" />\n",
       "<path d=\"M140,85 L160,85 L160,65 L140,65 L140,85\" stroke-width=\"1\" stroke=\"black\" stroke-linejoin=\"miter\" fill=\"lightgray\" />\n",
       "<text x=\"150\" y=\"94\" font-size=\"7\" text-anchor=\"middle\">Φ=pi</text>\n",
       "<path d=\"M125,125.0 L175,125.0\" stroke=\"black\" stroke-width=\"1\" fill=\"none\" />\n",
       "<path d=\"M187.9442,75.0002 C201.6538,75.0002,201.5923,100.0,215.3019,100.0 M215.3038,100.0 C201.5922,100.0,201.6538,124.9998,187.9441,124.9998 M215.3038,100.0 L237.1884,100.0 M237.1884,100.0 C250.9,100.0,250.8384,75.0002,264.5481,75.0002 M237.18839999999997,100.0 C250.89999999999998,100.0,250.83839999999998,124.9998,264.5481,124.9998 M174.99999999999997,75.0 L187.99999999999997,75.0 M188.00189999999998,124.9998 L174.99999999999997,124.9998 M262.64529999999996,124.9998 L274.99999999999994,124.9998 M262.1944,74.9998 L275.0,74.9998\" stroke-width=\"1\" stroke=\"black\" stroke-linejoin=\"miter\" fill=\"none\" />\n",
       "<text x=\"225\" y=\"88\" font-size=\"7\" text-anchor=\"middle\"></text>\n",
       "<path d=\"M247,103 L257,103 L257,113 L247,113 Z\" stroke=\"black\" fill=\"aquamarine\" stroke-linejoin=\"miter\" />\n",
       "<text x=\"252\" y=\"110\" font-size=\"6\" text-anchor=\"middle\">H</text>\n",
       "<path d=\"M275,125 L295,125 M305,125 L325,125\" stroke-width=\"1\" stroke=\"black\" stroke-linejoin=\"miter\" fill=\"none\" />\n",
       "<path d=\"M290,135 L310,135 L310,115 L290,115 L290,135\" stroke-width=\"1\" stroke=\"black\" stroke-linejoin=\"miter\" fill=\"lightgray\" />\n",
       "<text x=\"300\" y=\"144\" font-size=\"7\" text-anchor=\"middle\">Φ=0</text>\n",
       "<path d=\"M25,25.0 L325,25.0\" stroke=\"black\" stroke-width=\"1\" fill=\"none\" />\n",
       "<path d=\"M275,75.0 L325,75.0\" stroke=\"black\" stroke-width=\"1\" fill=\"none\" />\n",
       "<path d=\"M25,175.0 L325,175.0\" stroke=\"black\" stroke-width=\"1\" fill=\"none\" />\n",
       "<path d=\"M325,25.0 L340,25.0\" stroke-width=\"1\" stroke=\"black\" stroke-linejoin=\"miter\" fill=\"none\" />\n",
       "<path d=\"M325,75.0 L340,75.0\" stroke-width=\"1\" stroke=\"black\" stroke-linejoin=\"miter\" fill=\"none\" />\n",
       "<path d=\"M325,125.0 L340,125.0\" stroke-width=\"1\" stroke=\"black\" stroke-linejoin=\"miter\" fill=\"none\" />\n",
       "<path d=\"M325,175.0 L340,175.0\" stroke-width=\"1\" stroke=\"black\" stroke-linejoin=\"miter\" fill=\"none\" />\n",
       "<text x=\"350\" y=\"28.0\" font-size=\"6\" text-anchor=\"end\">0</text>\n",
       "<text x=\"350\" y=\"78.0\" font-size=\"6\" text-anchor=\"end\">1</text>\n",
       "<text x=\"350\" y=\"128.0\" font-size=\"6\" text-anchor=\"end\">2</text>\n",
       "<text x=\"350\" y=\"178.0\" font-size=\"6\" text-anchor=\"end\">3</text>\n",
       "<text x=\"0\" y=\"28.0\" font-size=\"6\" text-anchor=\"start\">0</text>\n",
       "<text x=\"0\" y=\"78.0\" font-size=\"6\" text-anchor=\"start\">1</text>\n",
       "<text x=\"0\" y=\"128.0\" font-size=\"6\" text-anchor=\"start\">2</text>\n",
       "<text x=\"0\" y=\"178.0\" font-size=\"6\" text-anchor=\"start\">3</text>\n",
       "</svg>"
      ],
      "text/plain": [
       "<drawsvg.drawing.Drawing at 0x7f5d33324880>"
      ]
     },
     "execution_count": 24,
     "metadata": {},
     "output_type": "execute_result"
    }
   ],
   "source": [
    "qc = pv.Circuit(4)\n",
    "addPrep(qc, 0, 0)\n",
    "phase_shifter = comp.PS(np.pi/2) # phi = pi/2\n",
    "# qc.add(0, BS.H())\n",
    "# qc.add(0, phase_shifter)\n",
    "# qc.add(0, BS.H())\n",
    "# qc.add(1, phase_shifter)\n",
    "pv.pdisplay(qc, skin=SymbSkin())\n"
   ]
  },
  {
   "cell_type": "code",
   "execution_count": 25,
   "metadata": {},
   "outputs": [
    {
     "data": {
      "text/plain": [
       "BSCount(int, {|0,0,1,1>: 10000})"
      ]
     },
     "execution_count": 25,
     "metadata": {},
     "output_type": "execute_result"
    }
   ],
   "source": [
    "input = pv.StateVector([0,1,0,1])\n",
    "run_circuit(input, qc)"
   ]
  },
  {
   "cell_type": "code",
   "execution_count": null,
   "metadata": {},
   "outputs": [],
   "source": []
  },
  {
   "cell_type": "code",
   "execution_count": null,
   "metadata": {},
   "outputs": [],
   "source": []
  }
 ],
 "metadata": {
  "kernelspec": {
   "display_name": ".venv",
   "language": "python",
   "name": "python3"
  },
  "language_info": {
   "codemirror_mode": {
    "name": "ipython",
    "version": 3
   },
   "file_extension": ".py",
   "mimetype": "text/x-python",
   "name": "python",
   "nbconvert_exporter": "python",
   "pygments_lexer": "ipython3",
   "version": "3.10.12"
  }
 },
 "nbformat": 4,
 "nbformat_minor": 2
}
