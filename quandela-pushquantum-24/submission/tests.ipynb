{
 "cells": [
  {
   "cell_type": "code",
   "execution_count": 164,
   "metadata": {},
   "outputs": [],
   "source": [
    "import perceval as pv \n",
    "from perceval.components import BS, PS\n",
    "from perceval.rendering.circuit import SymbSkin, PhysSkin\n",
    "import perceval.components.unitary_components as comp\n",
    "from perceval.utils import BasicState, DensityMatrix\n",
    "import numpy as np\n",
    "from circuits import addPrep, deAddPrep\n",
    "from collections import Counter"
   ]
  },
  {
   "cell_type": "code",
   "execution_count": 165,
   "metadata": {},
   "outputs": [],
   "source": [
    "def getFidelityRho1(counts):\n",
    "    totCounts, validCounts = 0, 0\n",
    "\n",
    "    for state in counts:\n",
    "        totCounts += counts[state]\n",
    "        if state[0] == 1 and state[1] == 0:\n",
    "            validCounts += counts[state]\n",
    "\n",
    "    return validCounts/totCounts\n",
    "\n",
    "\n",
    "def getFidelityRho2(counts):\n",
    "    totCounts, validCounts = 0, 0\n",
    "\n",
    "    for state in counts:\n",
    "        totCounts += counts[state]\n",
    "        if state[2] == 1 and state[3] == 0:\n",
    "            validCounts += counts[state]\n",
    "\n",
    "    return validCounts/totCounts\n",
    "\n",
    "\n",
    "def getFidelityRho(counts):\n",
    "    totCounts, validCounts = 0, 0\n",
    "\n",
    "    for state in counts:\n",
    "        totCounts += counts[state]\n",
    "        if state[0] == state[2] and state[1] == state[3]:\n",
    "            validCounts += counts[state]\n",
    "\n",
    "    return validCounts/totCounts\n",
    "\n",
    "def costFunctionAtPhi(counts):\n",
    "    return (1 - getFidelityRho1(counts))**2 + (1 - getFidelityRho2(counts))**2 + (getFidelityRho1(counts)-getFidelityRho2(counts))**2\n",
    "\n",
    "def run_circuit(input, circuit,sample_count=10000):\n",
    "        sv = input\n",
    "\n",
    "        p = pv.Processor(\"SLOS\", circuit)\n",
    "        p.with_input(sv)\n",
    "\n",
    "        sampler = pv.algorithm.Sampler(p)  \n",
    "        counts = sampler.sample_count(sample_count)['results']\n",
    "        return counts\n",
    "\n",
    "def get_state_vector(input,circuit, gate_idx=None):\n",
    "    '''Returns the state vector given by the execution of\n",
    "    circuit on the input state. If the optional parameter \n",
    "    gate_idx is provided, it returns the state vector after\n",
    "    gate_idx gates'''\n",
    "    \n",
    "    sv = input\n",
    "    stepper = pv.simulators.Stepper(pv.backends.SLOSBackend())\n",
    "    stepper.set_circuit(circuit)\n",
    "    # sv = pv.StateVector(sv)\n",
    "\n",
    "    # we make the state vector evolve through all components of the circuit - here there is only one component\n",
    "    stepIndex = 0\n",
    "\n",
    "    # print(stepIndex, ')\\t', sv, '\\n')\n",
    "\n",
    "    for r, c in circuit:\n",
    "        if stepIndex == gate_idx:\n",
    "            break\n",
    "        sv = stepper.apply(sv, r, c)\n",
    "        stepIndex += 1\n",
    "        # print(stepIndex, ')\\t', sv, '\\n')\n",
    "\n",
    "    return sv\n",
    "\n",
    "def test_loss_function(circuit, sv):\n",
    "    cost = 0\n",
    "    counts = run_circuit(sv, circuit)\n",
    "    cost += (1- getFidelityRho1(counts))**2\n",
    "        \n",
    "    return cost"
   ]
  },
  {
   "cell_type": "code",
   "execution_count": 172,
   "metadata": {},
   "outputs": [
    {
     "data": {
      "image/svg+xml": [
       "<?xml version=\"1.0\" encoding=\"UTF-8\"?>\n",
       "<svg xmlns=\"http://www.w3.org/2000/svg\" xmlns:xlink=\"http://www.w3.org/1999/xlink\"\n",
       "     width=\"445.0\" height=\"281.25\" viewBox=\"-28.0 0 356.0 225.0\">\n",
       "<defs>\n",
       "</defs>\n",
       "<path d=\"M10,25.0 L25,25.0\" stroke-width=\"1\" stroke=\"black\" stroke-linejoin=\"miter\" fill=\"none\" />\n",
       "<path d=\"M10,75.0 L25,75.0\" stroke-width=\"1\" stroke=\"black\" stroke-linejoin=\"miter\" fill=\"none\" />\n",
       "<path d=\"M10,125.0 L25,125.0\" stroke-width=\"1\" stroke=\"black\" stroke-linejoin=\"miter\" fill=\"none\" />\n",
       "<path d=\"M10,175.0 L25,175.0\" stroke-width=\"1\" stroke=\"black\" stroke-linejoin=\"miter\" fill=\"none\" />\n",
       "<path d=\"M37.9442,25.0002 C51.653800000000004,25.0002,51.5923,50.0,65.3019,50.0 M65.3038,50.0 C51.59219999999999,50.0,51.6538,74.9998,37.94409999999999,74.9998 M65.3038,49.99999999999999 L87.1884,49.99999999999999 M87.1884,49.99999999999999 C100.9,49.99999999999999,100.83840000000001,25.000199999999992,114.5481,25.000199999999992 M87.1884,49.99999999999999 C100.9,49.99999999999999,100.83840000000001,74.9998,114.5481,74.9998 M25.0,24.999999999999993 L38.0,24.999999999999993 M38.0019,74.9998 L25.0,74.9998 M112.6453,74.9998 L125.0,74.9998 M112.1944,24.999799999999993 L125.0,24.999799999999993\" stroke-width=\"1\" stroke=\"black\" stroke-linejoin=\"miter\" fill=\"none\" />\n",
       "<text x=\"75\" y=\"38\" font-size=\"7\" text-anchor=\"middle\"></text>\n",
       "<path d=\"M97,53 L107,53 L107,63 L97,63 Z\" stroke=\"black\" fill=\"aquamarine\" stroke-linejoin=\"miter\" />\n",
       "<text x=\"102\" y=\"60\" font-size=\"6\" text-anchor=\"middle\">H</text>\n",
       "<path d=\"M125,75 L145,75 M155,75 L175,75\" stroke-width=\"1\" stroke=\"black\" stroke-linejoin=\"miter\" fill=\"none\" />\n",
       "<path d=\"M140,85 L160,85 L160,65 L140,65 L140,85\" stroke-width=\"1\" stroke=\"black\" stroke-linejoin=\"miter\" fill=\"lightgray\" />\n",
       "<text x=\"150\" y=\"94\" font-size=\"7\" text-anchor=\"middle\">Φ=pi</text>\n",
       "<path d=\"M125,25.0 L175,25.0\" stroke=\"black\" stroke-width=\"1\" fill=\"none\" />\n",
       "<path d=\"M187.9442,25.0002 C201.6538,25.0002,201.5923,50.0,215.3019,50.0 M215.3038,50.0 C201.5922,50.0,201.6538,74.9998,187.9441,74.9998 M215.3038,49.99999999999999 L237.1884,49.99999999999999 M237.1884,49.99999999999999 C250.9,49.99999999999999,250.8384,25.000199999999992,264.5481,25.000199999999992 M237.18839999999997,49.99999999999999 C250.89999999999998,49.99999999999999,250.83839999999998,74.9998,264.5481,74.9998 M174.99999999999997,24.999999999999993 L187.99999999999997,24.999999999999993 M188.00189999999998,74.9998 L174.99999999999997,74.9998 M262.64529999999996,74.9998 L274.99999999999994,74.9998 M262.1944,24.999799999999993 L275.0,24.999799999999993\" stroke-width=\"1\" stroke=\"black\" stroke-linejoin=\"miter\" fill=\"none\" />\n",
       "<text x=\"225\" y=\"38\" font-size=\"7\" text-anchor=\"middle\"></text>\n",
       "<path d=\"M247,53 L257,53 L257,63 L247,63 Z\" stroke=\"black\" fill=\"aquamarine\" stroke-linejoin=\"miter\" />\n",
       "<text x=\"252\" y=\"60\" font-size=\"6\" text-anchor=\"middle\">H</text>\n",
       "<path d=\"M25,125.0 L275,125.0\" stroke=\"black\" stroke-width=\"1\" fill=\"none\" />\n",
       "<path d=\"M25,175.0 L275,175.0\" stroke=\"black\" stroke-width=\"1\" fill=\"none\" />\n",
       "<path d=\"M275,25.0 L290,25.0\" stroke-width=\"1\" stroke=\"black\" stroke-linejoin=\"miter\" fill=\"none\" />\n",
       "<path d=\"M275,75.0 L290,75.0\" stroke-width=\"1\" stroke=\"black\" stroke-linejoin=\"miter\" fill=\"none\" />\n",
       "<path d=\"M275,125.0 L290,125.0\" stroke-width=\"1\" stroke=\"black\" stroke-linejoin=\"miter\" fill=\"none\" />\n",
       "<path d=\"M275,175.0 L290,175.0\" stroke-width=\"1\" stroke=\"black\" stroke-linejoin=\"miter\" fill=\"none\" />\n",
       "<text x=\"300\" y=\"28.0\" font-size=\"6\" text-anchor=\"end\">0</text>\n",
       "<text x=\"300\" y=\"78.0\" font-size=\"6\" text-anchor=\"end\">1</text>\n",
       "<text x=\"300\" y=\"128.0\" font-size=\"6\" text-anchor=\"end\">2</text>\n",
       "<text x=\"300\" y=\"178.0\" font-size=\"6\" text-anchor=\"end\">3</text>\n",
       "<text x=\"0\" y=\"28.0\" font-size=\"6\" text-anchor=\"start\">0</text>\n",
       "<text x=\"0\" y=\"78.0\" font-size=\"6\" text-anchor=\"start\">1</text>\n",
       "<text x=\"0\" y=\"128.0\" font-size=\"6\" text-anchor=\"start\">2</text>\n",
       "<text x=\"0\" y=\"178.0\" font-size=\"6\" text-anchor=\"start\">3</text>\n",
       "</svg>"
      ],
      "text/plain": [
       "<drawsvg.drawing.Drawing at 0x7f0cac3adbd0>"
      ]
     },
     "execution_count": 172,
     "metadata": {},
     "output_type": "execute_result"
    }
   ],
   "source": [
    "qc = pv.Circuit(4)\n",
    "theta = np.pi\n",
    "phi = 0\n",
    "phase_shifter = comp.PS(theta)\n",
    "qc.add(0, BS.H())\n",
    "qc.add(1, phase_shifter)\n",
    "qc.add(0, BS.H())\n",
    "# addPrep(qc, theta, phi)\n",
    "# qc.barrier()\n",
    "# deAddPrep(qc, theta, phi)\n",
    "# qc.add(0, BS.H())\n",
    "# qc.add(1, phase_shifter)\n",
    "# qc.add(0, BS.H())\n",
    "# qc.add(1, phase_shifter)\n",
    "pv.pdisplay(qc, skin=SymbSkin())\n"
   ]
  },
  {
   "cell_type": "code",
   "execution_count": 173,
   "metadata": {},
   "outputs": [
    {
     "name": "stdout",
     "output_type": "stream",
     "text": [
      "{\n",
      "  |0,1,1,0>: 10000\n",
      "}\n",
      "|0,1,1,0>\n",
      "[warning] Setting a value for min_detected_photons will soon be mandatory, please change your scripts accordingly. Use the method processor.min_detected_photons_filter(value) before any call of processor.with_input(input). The current deduced value of min_detected_photons is 2\n"
     ]
    }
   ],
   "source": [
    "input = pv.StateVector([1,0,1,0])\n",
    "print(run_circuit(input, qc))\n",
    "print(get_state_vector(input, qc))"
   ]
  },
  {
   "cell_type": "code",
   "execution_count": 174,
   "metadata": {},
   "outputs": [
    {
     "name": "stdout",
     "output_type": "stream",
     "text": [
      "[warning] Setting a value for min_detected_photons will soon be mandatory, please change your scripts accordingly. Use the method processor.min_detected_photons_filter(value) before any call of processor.with_input(input). The current deduced value of min_detected_photons is 2\n"
     ]
    },
    {
     "data": {
      "text/plain": [
       "1.0"
      ]
     },
     "execution_count": 174,
     "metadata": {},
     "output_type": "execute_result"
    }
   ],
   "source": [
    "test_loss_function(qc, input)"
   ]
  },
  {
   "cell_type": "code",
   "execution_count": null,
   "metadata": {},
   "outputs": [],
   "source": []
  },
  {
   "cell_type": "code",
   "execution_count": null,
   "metadata": {},
   "outputs": [],
   "source": []
  }
 ],
 "metadata": {
  "kernelspec": {
   "display_name": ".venv",
   "language": "python",
   "name": "python3"
  },
  "language_info": {
   "codemirror_mode": {
    "name": "ipython",
    "version": 3
   },
   "file_extension": ".py",
   "mimetype": "text/x-python",
   "name": "python",
   "nbconvert_exporter": "python",
   "pygments_lexer": "ipython3",
   "version": "3.10.12"
  }
 },
 "nbformat": 4,
 "nbformat_minor": 2
}
