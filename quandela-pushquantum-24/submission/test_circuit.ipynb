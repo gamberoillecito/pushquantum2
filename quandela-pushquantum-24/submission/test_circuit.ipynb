{
 "cells": [
  {
   "cell_type": "code",
   "execution_count": 85,
   "metadata": {},
   "outputs": [
    {
     "data": {
      "text/plain": [
       "'0.11.2'"
      ]
     },
     "execution_count": 85,
     "metadata": {},
     "output_type": "execute_result"
    }
   ],
   "source": [
    "import perceval as pv \n",
    "from perceval.components import BS, PS\n",
    "from perceval.rendering.circuit import SymbSkin, PhysSkin\n",
    "import perceval.components.unitary_components as comp\n",
    "from perceval.utils import BasicState, DensityMatrix\n",
    "import numpy as np\n",
    "from collections import Counter\n",
    "pv.__version__"
   ]
  },
  {
   "cell_type": "code",
   "execution_count": 86,
   "metadata": {},
   "outputs": [
    {
     "data": {
      "image/svg+xml": [
       "<?xml version=\"1.0\" encoding=\"UTF-8\"?>\n",
       "<svg xmlns=\"http://www.w3.org/2000/svg\" xmlns:xlink=\"http://www.w3.org/1999/xlink\"\n",
       "     width=\"195.0\" height=\"156.25\" viewBox=\"-28.0 0 156.0 125.0\">\n",
       "<defs>\n",
       "</defs>\n",
       "<path d=\"M10,25.0 L25,25.0\" stroke-width=\"1\" stroke=\"black\" stroke-linejoin=\"miter\" fill=\"none\" />\n",
       "<path d=\"M10,75.0 L25,75.0\" stroke-width=\"1\" stroke=\"black\" stroke-linejoin=\"miter\" fill=\"none\" />\n",
       "<path d=\"M25,25 L45,25 M55,25 L75,25\" stroke-width=\"1\" stroke=\"black\" stroke-linejoin=\"miter\" fill=\"none\" />\n",
       "<path d=\"M40,35 L60,35 L60,15 L40,15 L40,35\" stroke-width=\"1\" stroke=\"black\" stroke-linejoin=\"miter\" fill=\"lightgray\" />\n",
       "<text x=\"50\" y=\"44\" font-size=\"7\" text-anchor=\"middle\">Φ=pi/2</text>\n",
       "<path d=\"M25,75.0 L75,75.0\" stroke=\"black\" stroke-width=\"1\" fill=\"none\" />\n",
       "<path d=\"M75,25.0 L90,25.0\" stroke-width=\"1\" stroke=\"black\" stroke-linejoin=\"miter\" fill=\"none\" />\n",
       "<path d=\"M75,75.0 L90,75.0\" stroke-width=\"1\" stroke=\"black\" stroke-linejoin=\"miter\" fill=\"none\" />\n",
       "<text x=\"100\" y=\"28.0\" font-size=\"6\" text-anchor=\"end\">0</text>\n",
       "<text x=\"100\" y=\"78.0\" font-size=\"6\" text-anchor=\"end\">1</text>\n",
       "<text x=\"0\" y=\"28.0\" font-size=\"6\" text-anchor=\"start\">0</text>\n",
       "<text x=\"0\" y=\"78.0\" font-size=\"6\" text-anchor=\"start\">1</text>\n",
       "</svg>"
      ],
      "text/plain": [
       "<drawsvg.drawing.Drawing at 0x7f8d0ff29720>"
      ]
     },
     "execution_count": 86,
     "metadata": {},
     "output_type": "execute_result"
    }
   ],
   "source": [
    "qc = pv.Circuit(2)\n",
    "phase_shifter = comp.PS(np.pi/2) # phi = pi/2\n",
    "# qc.add(0, BS.H())\n",
    "qc.add(0, phase_shifter)\n",
    "# qc.add(0, BS.H())\n",
    "# qc.add(1, phase_shifter)\n",
    "pv.pdisplay(qc, skin=SymbSkin())"
   ]
  },
  {
   "cell_type": "code",
   "execution_count": 87,
   "metadata": {},
   "outputs": [
    {
     "name": "stdout",
     "output_type": "stream",
     "text": [
      "1.00+0.00j*|1,0><1,0|\n",
      "0 )\t |1,0> \n",
      "\n",
      "1 )\t I*|1,0> \n",
      "\n"
     ]
    }
   ],
   "source": [
    "sv = pv.StateVector([1,0]) # From the paper\n",
    "\n",
    "dm_ini = DensityMatrix.from_svd(sv)\n",
    "# pv.pdisplay(dm_ini)\n",
    "print(dm_ini)\n",
    "\n",
    "circuit = qc\n",
    "\n",
    "stepper = pv.simulators.Stepper(pv.backends.SLOSBackend())\n",
    "stepper.set_circuit(circuit)\n",
    "# sv = pv.StateVector(sv)\n",
    "\n",
    "# we make the state vector evolve through all components of the circuit - here there is only one component\n",
    "stepIndex = 0\n",
    "\n",
    "print(stepIndex, ')\\t', sv, '\\n')\n",
    "\n",
    "for r, c in circuit:\n",
    "    sv = stepper.apply(sv, r, c)\n",
    "    stepIndex += 1\n",
    "    print(stepIndex, ')\\t', sv, '\\n')\n"
   ]
  },
  {
   "cell_type": "code",
   "execution_count": 88,
   "metadata": {},
   "outputs": [
    {
     "data": {
      "image/png": "[encoded data removed]",
      "text/plain": [
       "<Figure size 640x480 with 1 Axes>"
      ]
     },
     "metadata": {},
     "output_type": "display_data"
    }
   ],
   "source": [
    "\n",
    "dm_fin = DensityMatrix.from_svd(sv)\n",
    "pv.pdisplay(dm_fin)\n"
   ]
  },
  {
   "cell_type": "code",
   "execution_count": 89,
   "metadata": {},
   "outputs": [
    {
     "name": "stdout",
     "output_type": "stream",
     "text": [
      "final state vector I*|1,0>\n",
      "1.00+0.00j*|1,0><1,0|\n"
     ]
    },
    {
     "data": {
      "image/svg+xml": [
       "<?xml version=\"1.0\" encoding=\"UTF-8\"?>\n",
       "<svg xmlns=\"http://www.w3.org/2000/svg\" xmlns:xlink=\"http://www.w3.org/1999/xlink\"\n",
       "     width=\"195.0\" height=\"156.25\" viewBox=\"-28.0 0 156.0 125.0\">\n",
       "<defs>\n",
       "</defs>\n",
       "<path d=\"M10,25.0 L25,25.0\" stroke-width=\"1\" stroke=\"black\" stroke-linejoin=\"miter\" fill=\"none\" />\n",
       "<path d=\"M10,75.0 L25,75.0\" stroke-width=\"1\" stroke=\"black\" stroke-linejoin=\"miter\" fill=\"none\" />\n",
       "<path d=\"M25,25 L45,25 M55,25 L75,25\" stroke-width=\"1\" stroke=\"black\" stroke-linejoin=\"miter\" fill=\"none\" />\n",
       "<path d=\"M40,35 L60,35 L60,15 L40,15 L40,35\" stroke-width=\"1\" stroke=\"black\" stroke-linejoin=\"miter\" fill=\"lightgray\" />\n",
       "<text x=\"50\" y=\"44\" font-size=\"7\" text-anchor=\"middle\">Φ=pi/2</text>\n",
       "<path d=\"M25,75.0 L75,75.0\" stroke=\"black\" stroke-width=\"1\" fill=\"none\" />\n",
       "<path d=\"M75,25.0 L90,25.0\" stroke-width=\"1\" stroke=\"black\" stroke-linejoin=\"miter\" fill=\"none\" />\n",
       "<path d=\"M75,75.0 L90,75.0\" stroke-width=\"1\" stroke=\"black\" stroke-linejoin=\"miter\" fill=\"none\" />\n",
       "<text x=\"100\" y=\"28.0\" font-size=\"6\" text-anchor=\"end\">0</text>\n",
       "<text x=\"100\" y=\"78.0\" font-size=\"6\" text-anchor=\"end\">1</text>\n",
       "<text x=\"0\" y=\"28.0\" font-size=\"6\" text-anchor=\"start\">0</text>\n",
       "<text x=\"0\" y=\"78.0\" font-size=\"6\" text-anchor=\"start\">1</text>\n",
       "</svg>"
      ],
      "text/plain": [
       "<drawsvg.drawing.Drawing at 0x7f8d0de33d30>"
      ]
     },
     "execution_count": 89,
     "metadata": {},
     "output_type": "execute_result"
    }
   ],
   "source": [
    "\n",
    "print(\"final state vector\", sv)\n",
    "print(dm_fin)\n",
    "pv.pdisplay(circuit, skin=SymbSkin())"
   ]
  },
  {
   "cell_type": "code",
   "execution_count": null,
   "metadata": {},
   "outputs": [
    {
     "data": {
      "text/plain": [
       "(1+0j)"
      ]
     },
     "execution_count": 120,
     "metadata": {},
     "output_type": "execute_result"
    }
   ],
   "source": [
    "def fidelity(in_state, out_state):\n",
    "    # return pv.algorithm.Analyzer(p, states)\n",
    "    d_in = DensityMatrix.from_svd(in_state).mat.toarray()\n",
    "    d_out = DensityMatrix.from_svd(out_state).mat.toarray()\n",
    "    return np.trace(np.matmul(d_in,d_out))\n",
    "\n",
    "\n",
    "sv_in = pv.StateVector([1,0]) # From the paper\n",
    "# sv_out = pv.StateVector([1,0]) # From the paper\n",
    "qc = pv.Circuit(1)\n",
    "phase_shifter = comp.PS(np.pi/2) # phi = pi/2\n",
    "# qc.add(0, BS.H())\n",
    "qc.add(0, phase_shifter)\n",
    "fidelity(sv_in, sv_out)\n"
   ]
  },
  {
   "cell_type": "code",
   "execution_count": 128,
   "metadata": {},
   "outputs": [
    {
     "data": {
      "text/plain": [
       "array([[5.70707706, 1.58350937, 1.86723068, 1.96364392, 3.7988183 ,\n",
       "        4.69676042, 0.00613657, 0.65972991, 2.72763223, 2.04006351,\n",
       "        1.12824327, 5.57457917]])"
      ]
     },
     "execution_count": 128,
     "metadata": {},
     "output_type": "execute_result"
    }
   ],
   "source": [
    "np.random.rand(1,12)*np.pi*2"
   ]
  }
 ],
 "metadata": {
  "kernelspec": {
   "display_name": ".venv",
   "language": "python",
   "name": "python3"
  },
  "language_info": {
   "codemirror_mode": {
    "name": "ipython",
    "version": 3
   },
   "file_extension": ".py",
   "mimetype": "text/x-python",
   "name": "python",
   "nbconvert_exporter": "python",
   "pygments_lexer": "ipython3",
   "version": "3.10.12"
  }
 },
 "nbformat": 4,
 "nbformat_minor": 2
}
